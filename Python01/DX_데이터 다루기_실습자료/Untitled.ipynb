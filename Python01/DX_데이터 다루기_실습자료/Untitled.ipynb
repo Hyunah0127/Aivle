{
 "cells": [
  {
   "cell_type": "markdown",
   "id": "7078eda7",
   "metadata": {},
   "source": [
    "# 파이썬과의 첫 만남"
   ]
  },
  {
   "cell_type": "markdown",
   "id": "564b03dd",
   "metadata": {},
   "source": [
    "## 1. 마크다운 셀 입력"
   ]
  },
  {
   "cell_type": "markdown",
   "id": "e557f55d",
   "metadata": {},
   "source": [
    "### 1.1. 글자 크기를 조정\n",
    "\n",
    "원하는 **글자 크기**로 *내용*을 입력합니다.\n",
    "- 참 좋군요.\n",
    "- ***그러게요.***"
   ]
  },
  {
   "cell_type": "code",
   "execution_count": 3,
   "id": "2ecd67c5",
   "metadata": {},
   "outputs": [
    {
     "data": {
      "text/plain": [
       "30"
      ]
     },
     "execution_count": 3,
     "metadata": {},
     "output_type": "execute_result"
    }
   ],
   "source": [
    "#변수 선언\n",
    "a = 10\n",
    "b = 20\n",
    "c = a+b #두 변수 값을 더해 c로 선언\n",
    "\n",
    "#결과 확인\n",
    "c"
   ]
  },
  {
   "cell_type": "code",
   "execution_count": null,
   "id": "d15a2f14",
   "metadata": {},
   "outputs": [],
   "source": []
  },
  {
   "cell_type": "code",
   "execution_count": null,
   "id": "e9905dbd",
   "metadata": {},
   "outputs": [],
   "source": []
  }
 ],
 "metadata": {
  "kernelspec": {
   "display_name": "Python 3 (ipykernel)",
   "language": "python",
   "name": "python3"
  },
  "language_info": {
   "codemirror_mode": {
    "name": "ipython",
    "version": 3
   },
   "file_extension": ".py",
   "mimetype": "text/x-python",
   "name": "python",
   "nbconvert_exporter": "python",
   "pygments_lexer": "ipython3",
   "version": "3.11.3"
  }
 },
 "nbformat": 4,
 "nbformat_minor": 5
}
