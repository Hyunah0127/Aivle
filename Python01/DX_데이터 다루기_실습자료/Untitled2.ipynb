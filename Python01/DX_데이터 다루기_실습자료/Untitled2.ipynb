{
 "cells": [
  {
   "cell_type": "markdown",
   "id": "fc859f86",
   "metadata": {},
   "source": [
    "# 정리"
   ]
  },
  {
   "cell_type": "code",
   "execution_count": 1,
   "id": "02faa779",
   "metadata": {},
   "outputs": [
    {
     "name": "stdout",
     "output_type": "stream",
     "text": [
      "<class 'int'>\n"
     ]
    }
   ],
   "source": [
    "# 정수형 변수\n",
    "a = 10\n",
    "print(type(a))\n"
   ]
  },
  {
   "cell_type": "code",
   "execution_count": 3,
   "id": "ef16b98d",
   "metadata": {},
   "outputs": [
    {
     "name": "stdout",
     "output_type": "stream",
     "text": [
      "50.0\n"
     ]
    }
   ],
   "source": [
    "# 복합대입 연산자\n",
    "a += 10\n",
    "a /= 2\n",
    "a *= 5\n",
    "print(a)"
   ]
  },
  {
   "cell_type": "code",
   "execution_count": 4,
   "id": "c895757b",
   "metadata": {},
   "outputs": [
    {
     "name": "stdout",
     "output_type": "stream",
     "text": [
      "['나', '의', '살', '던', '고', '향', '은', '꽃', '피', '는', '산', '골']\n"
     ]
    }
   ],
   "source": [
    "# 문자열 -> 리스트\n",
    "s = '나의살던고향은꽃피는산골'\n",
    "l = list(s)\n",
    "print(l)"
   ]
  },
  {
   "cell_type": "code",
   "execution_count": 8,
   "id": "564091ef",
   "metadata": {},
   "outputs": [
    {
     "name": "stdout",
     "output_type": "stream",
     "text": [
      "고향\n",
      "산골\n",
      "골\n"
     ]
    }
   ],
   "source": [
    "# 문자열 인덱싱, 슬라이싱\n",
    "s = '나의살던고향은꽃피는산골'\n",
    "print(s[4:6])   #고향\n",
    "print(s[-2:])   #산골\n",
    "print(s[-1])    #골"
   ]
  },
  {
   "cell_type": "code",
   "execution_count": 14,
   "id": "9462ff15",
   "metadata": {},
   "outputs": [
    {
     "name": "stdout",
     "output_type": "stream",
     "text": [
      "<class 'list'>\n",
      "[1, 2, 3, 4, 5, 6, 7, 8, 9, 10]\n"
     ]
    }
   ],
   "source": [
    "b = [1, 2, 3, 4, 5]\n",
    "b += [6]\n",
    "b.append(7)\n",
    "b.extend([8, 9, 10])\n",
    "print(type(b))\n",
    "print(b)"
   ]
  },
  {
   "cell_type": "code",
   "execution_count": 19,
   "id": "1a4c4623",
   "metadata": {},
   "outputs": [
    {
     "name": "stdout",
     "output_type": "stream",
     "text": [
      "[1, 2, 3, 4, 5, 6, 7, 8, 9, 10]\n"
     ]
    }
   ],
   "source": [
    "# 내림차순\n",
    "b.sort(reverse=True)\n",
    "\n",
    "# 뒤집기\n",
    "b.reverse()\n",
    "\n",
    "# 확인\n",
    "print(b)"
   ]
  },
  {
   "cell_type": "code",
   "execution_count": 23,
   "id": "c76d8db7",
   "metadata": {},
   "outputs": [
    {
     "name": "stdout",
     "output_type": "stream",
     "text": [
      "[2, 4, 6, 8, 10]\n"
     ]
    }
   ],
   "source": [
    "#b = [1, 2, 3, 4, 5, 6, 7, 8, 9, 10]\n",
    "b = list(range(1,11))\n",
    "c = []\n",
    "for x in b:\n",
    "    if x % 2 == 0:\n",
    "        c.append(x)\n",
    "print(c)"
   ]
  },
  {
   "cell_type": "code",
   "execution_count": 24,
   "id": "9f9d8c84",
   "metadata": {},
   "outputs": [
    {
     "name": "stdout",
     "output_type": "stream",
     "text": [
      "[2, 4, 6, 8, 10]\n"
     ]
    }
   ],
   "source": [
    "# for문 확장\n",
    "b = list(range(1, 11))\n",
    "c=[x for x in b if x % 2 ==0]\n",
    "print(c)"
   ]
  },
  {
   "cell_type": "code",
   "execution_count": null,
   "id": "f3fc4c93",
   "metadata": {},
   "outputs": [],
   "source": [
    "# 무한루프와 탈출\n",
    "while True:\n",
    "    ...\n",
    "    break\n",
    "    ..."
   ]
  },
  {
   "cell_type": "code",
   "execution_count": null,
   "id": "be2eda6f",
   "metadata": {},
   "outputs": [],
   "source": [
    "# 조건으로 탈출\n",
    "i = 0 \n",
    "while i < 10:\n",
    "    ...\n",
    "    i += 1"
   ]
  },
  {
   "cell_type": "code",
   "execution_count": 25,
   "id": "890e7bb2",
   "metadata": {},
   "outputs": [
    {
     "name": "stdout",
     "output_type": "stream",
     "text": [
      "입력하세요3\n"
     ]
    }
   ],
   "source": [
    "# 사용자 입력 받기\n",
    "a = input('입력하세요')\n",
    "a = int(a)\n",
    "a += 10"
   ]
  },
  {
   "cell_type": "code",
   "execution_count": 26,
   "id": "7d35b84c",
   "metadata": {},
   "outputs": [
    {
     "name": "stdout",
     "output_type": "stream",
     "text": [
      "['a', 'b', 'c']\n",
      "dict_keys(['a', 'b', 'c'])\n"
     ]
    }
   ],
   "source": [
    "d = {'a' : 1, 'b': 2, 'c': 3}\n",
    "print(list(d))\n",
    "print(list(d.keys()))\n",
    "print(list)"
   ]
  },
  {
   "cell_type": "code",
   "execution_count": 27,
   "id": "5b5c40ec",
   "metadata": {},
   "outputs": [
    {
     "name": "stdout",
     "output_type": "stream",
     "text": [
      "30\n"
     ]
    }
   ],
   "source": [
    "def hap(a, b):\n",
    "    return a + b\n",
    "\n",
    "c = hap(10, 20)\n",
    "print(c)"
   ]
  },
  {
   "cell_type": "code",
   "execution_count": 30,
   "id": "0546ea43",
   "metadata": {},
   "outputs": [
    {
     "name": "stdout",
     "output_type": "stream",
     "text": [
      "30\n",
      "c= None\n"
     ]
    }
   ],
   "source": [
    "def hap(a, b):\n",
    "    print(a + b)\n",
    "\n",
    "c = hap(10, 20)\n",
    "print('c=', c)"
   ]
  },
  {
   "cell_type": "code",
   "execution_count": 31,
   "id": "b0ce721c",
   "metadata": {},
   "outputs": [
    {
     "data": {
      "text/plain": [
       "140735826324208"
      ]
     },
     "execution_count": 31,
     "metadata": {},
     "output_type": "execute_result"
    }
   ],
   "source": [
    "id(c)"
   ]
  }
 ],
 "metadata": {
  "kernelspec": {
   "display_name": "Python 3 (ipykernel)",
   "language": "python",
   "name": "python3"
  },
  "language_info": {
   "codemirror_mode": {
    "name": "ipython",
    "version": 3
   },
   "file_extension": ".py",
   "mimetype": "text/x-python",
   "name": "python",
   "nbconvert_exporter": "python",
   "pygments_lexer": "ipython3",
   "version": "3.11.3"
  }
 },
 "nbformat": 4,
 "nbformat_minor": 5
}
